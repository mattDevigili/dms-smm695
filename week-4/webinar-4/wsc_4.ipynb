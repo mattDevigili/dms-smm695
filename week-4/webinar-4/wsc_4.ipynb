{
 "cells": [
  {
   "cell_type": "markdown",
   "metadata": {},
   "source": [
    "# Tutorial pymongo\n",
    "\n",
    "Agenda:\n",
    "\n",
    "* [Intro](#intro)\n",
    "  * Connection\n",
    "  * Create\n",
    "  * Read\n",
    "  * Update\n",
    "  * Delete\n",
    "* [Scrape a Table](#scrapeatable)\n",
    "  * Get HTML\n",
    "  * Parse HTML\n",
    "  * Store in MongoDB\n",
    "\n",
    "See also the Tutorial provided by [MongoDB](https://api.mongodb.com/python/current/tutorial.html)."
   ]
  },
  {
   "cell_type": "markdown",
   "metadata": {},
   "source": [
    "# Intro"
   ]
  },
  {
   "cell_type": "markdown",
   "metadata": {},
   "source": [
    "The recomended way to install [pymongo](https://docs.mongodb.com/drivers/pymongo) is:\n",
    "```python\n",
    "python -m pip install pymongo\n",
    "```"
   ]
  },
  {
   "cell_type": "markdown",
   "metadata": {
    "ExecuteTime": {
     "end_time": "2020-06-08T07:14:49.560154Z",
     "start_time": "2020-06-08T07:14:49.555545Z"
    }
   },
   "source": [
    "## Connection"
   ]
  },
  {
   "cell_type": "code",
   "execution_count": null,
   "metadata": {
    "ExecuteTime": {
     "end_time": "2020-06-11T07:43:05.460193Z",
     "start_time": "2020-06-11T07:43:05.224656Z"
    }
   },
   "outputs": [],
   "source": [
    "# client for a MongoDB instance\n",
    "from pymongo import MongoClient"
   ]
  },
  {
   "cell_type": "markdown",
   "metadata": {},
   "source": [
    "How to connect to the localhost:\n",
    "\n",
    "* client = MongoClient()\n",
    "* client = MongoClient('localhost', 27017)\n",
    "* client = MongoClient('mongodb://localhost:27017/')\n",
    "\n",
    "How to connect to your Atlas cluster:\n",
    "\n",
    "> You need to install some dependencies:\n",
    "```bash\n",
    "python -m pip install \"pymongo[snappy,gssapi,srv,tls]\"\n",
    "```\n",
    "\n",
    "\n",
    "```python\n",
    "client = MongoClient(\"mongodb+srv://<username>:<password>@cluster0-tnsbt.mongodb.net/<dbname>?retryWrites=true&w=majority\")\n",
    "```"
   ]
  },
  {
   "cell_type": "code",
   "execution_count": null,
   "metadata": {
    "ExecuteTime": {
     "end_time": "2020-06-11T07:43:07.283262Z",
     "start_time": "2020-06-11T07:43:07.266907Z"
    }
   },
   "outputs": [],
   "source": [
    "# let's connect to the localhost\n",
    "client = MongoClient()\n",
    "\n",
    "# let's create a database \n",
    "db = client.smm695\n",
    "\n",
    "# and a collection\n",
    "wb_1 = db.wb_1\n",
    "\n",
    "# print connection\n",
    "print(\"\"\"\n",
    "Database\n",
    "==========\n",
    "{}\n",
    "\n",
    "Collection\n",
    "==========\n",
    "{}\n",
    "\"\"\".format(db, wb_1), flush=True\n",
    ")"
   ]
  },
  {
   "cell_type": "markdown",
   "metadata": {},
   "source": [
    "**Note**:\n",
    "\n",
    "_Databases and collections are created \"lazily\" in MongoDB_. At this point, nothing has happened on the server, both database and collection will be created with the first insert. "
   ]
  },
  {
   "cell_type": "markdown",
   "metadata": {
    "ExecuteTime": {
     "end_time": "2020-06-08T08:06:32.414946Z",
     "start_time": "2020-06-08T08:06:32.410782Z"
    }
   },
   "source": [
    "## Create"
   ]
  },
  {
   "cell_type": "code",
   "execution_count": null,
   "metadata": {
    "ExecuteTime": {
     "end_time": "2020-06-11T07:43:09.654434Z",
     "start_time": "2020-06-11T07:43:09.618874Z"
    }
   },
   "outputs": [],
   "source": [
    "# document to insert\n",
    "planet = {\"name\": \"Mercury\", \"mass\": 0.06, \"moons\": 0}\n",
    "\n",
    "# insert one\n",
    "insert_1 = wb_1.insert_one(planet)\n",
    "\n",
    "# print info\n",
    "print(\"\"\"\n",
    "Collection\n",
    "==========\n",
    "{}\n",
    "\n",
    "_id\n",
    "==========\n",
    "{}\n",
    "\"\"\".format(db.list_collection_names(), insert_1.inserted_id), flush=True)"
   ]
  },
  {
   "cell_type": "code",
   "execution_count": null,
   "metadata": {
    "ExecuteTime": {
     "end_time": "2020-06-11T07:43:10.362055Z",
     "start_time": "2020-06-11T07:43:10.335809Z"
    }
   },
   "outputs": [],
   "source": [
    "# array of documents\n",
    "planets = [{\n",
    "    \"name\": \"Venus\",\n",
    "    \"mass\": 0.82,\n",
    "    \"moons\": 0\n",
    "}, {\n",
    "    \"name\": \"Earth\",\n",
    "    \"mass\": 1.00,\n",
    "    \"moons\": 1\n",
    "},\n",
    "{\n",
    "    \"name\": \"Mars\",\n",
    "    \"mass\": 0.11,\n",
    "    \"moons\": 2\n",
    "}]\n",
    "\n",
    "# using insertmany\n",
    "insert_2 = wb_1.insert_many(planets)\n",
    "\n",
    "# getting _id\n",
    "insert_2.inserted_ids"
   ]
  },
  {
   "cell_type": "markdown",
   "metadata": {},
   "source": [
    "## Read"
   ]
  },
  {
   "cell_type": "code",
   "execution_count": null,
   "metadata": {
    "ExecuteTime": {
     "end_time": "2020-06-11T07:43:11.683013Z",
     "start_time": "2020-06-11T07:43:11.678735Z"
    }
   },
   "outputs": [],
   "source": [
    "from pprint import pprint as pp"
   ]
  },
  {
   "cell_type": "code",
   "execution_count": null,
   "metadata": {
    "ExecuteTime": {
     "end_time": "2020-06-11T07:43:12.283219Z",
     "start_time": "2020-06-11T07:43:12.274325Z"
    }
   },
   "outputs": [],
   "source": [
    "# let's inspect a document\n",
    "pp(wb_1.find_one())"
   ]
  },
  {
   "cell_type": "code",
   "execution_count": null,
   "metadata": {
    "ExecuteTime": {
     "end_time": "2020-06-11T07:43:13.143102Z",
     "start_time": "2020-06-11T07:43:13.126457Z"
    }
   },
   "outputs": [],
   "source": [
    "# let's find all planets without moons\n",
    "for obs in wb_1.find({'moons': 0}):\n",
    "    pp(obs)"
   ]
  },
  {
   "cell_type": "markdown",
   "metadata": {},
   "source": [
    "## Update"
   ]
  },
  {
   "cell_type": "code",
   "execution_count": null,
   "metadata": {
    "ExecuteTime": {
     "end_time": "2020-06-11T07:43:14.951995Z",
     "start_time": "2020-06-11T07:43:14.939370Z"
    }
   },
   "outputs": [],
   "source": [
    "# add a new planet\n",
    "new_planet = {\"name\": \"Jupiter\", \"mass\": 317.8, \"moons\": 75, \"rings\": True}\n",
    "wb_1.insert_one(new_planet).inserted_id"
   ]
  },
  {
   "cell_type": "code",
   "execution_count": null,
   "metadata": {
    "ExecuteTime": {
     "end_time": "2020-06-11T07:43:15.848958Z",
     "start_time": "2020-06-11T07:43:15.837778Z"
    }
   },
   "outputs": [],
   "source": [
    "# update the number of moons\n",
    "name = \"Jupiter\"\n",
    "update_1 = wb_1.update_one({\"name\": name}, {\"$inc\": {\"moons\": 4}})\n",
    "\n",
    "# print info\n",
    "print(\"\"\"\n",
    "Matched: {}\n",
    "\n",
    "Modified: {}\n",
    "\"\"\".format(update_1.matched_count, update_1.modified_count), flush=True)"
   ]
  },
  {
   "cell_type": "code",
   "execution_count": null,
   "metadata": {
    "ExecuteTime": {
     "end_time": "2020-06-11T07:43:16.594063Z",
     "start_time": "2020-06-11T07:43:16.581531Z"
    }
   },
   "outputs": [],
   "source": [
    "# set a new field\n",
    "update_2 = wb_1.update_one({\"name\": name}, {\"$set\": {\"type\": \"gas giants\"}})\n",
    "\n",
    "# print info\n",
    "print(\"\"\"\n",
    "Matched: {}\n",
    "\n",
    "Modified: {}\n",
    "\"\"\".format(update_2.matched_count, update_2.modified_count), flush=True)"
   ]
  },
  {
   "cell_type": "code",
   "execution_count": null,
   "metadata": {
    "ExecuteTime": {
     "end_time": "2020-06-11T07:43:18.090373Z",
     "start_time": "2020-06-11T07:43:18.081506Z"
    }
   },
   "outputs": [],
   "source": [
    "# unset rings\n",
    "update_3 = wb_1.update_one({\"rings\": True}, {\"$unset\": {\"rings\": \"\"}})\n",
    "\n",
    "# print info\n",
    "print(\"\"\"\n",
    "Matched: {}\n",
    "\n",
    "Modified: {}\n",
    "\"\"\".format(update_3.matched_count, update_3.modified_count), flush=True)"
   ]
  },
  {
   "cell_type": "code",
   "execution_count": null,
   "metadata": {
    "ExecuteTime": {
     "end_time": "2020-06-11T07:43:18.940088Z",
     "start_time": "2020-06-11T07:43:18.930974Z"
    }
   },
   "outputs": [],
   "source": [
    "# set \"type\" field for the other planets\n",
    "update_4 = wb_1.update_many({\"moons\": {\"$lte\" : 2}}, {\"$set\": {\"type\": \"terrestrial planets\"}})\n",
    "\n",
    "# print info\n",
    "print(\"\"\"\n",
    "Matched: {}\n",
    "\n",
    "Modified: {}\n",
    "\"\"\".format(update_4.matched_count, update_4.modified_count), flush=True)"
   ]
  },
  {
   "cell_type": "code",
   "execution_count": null,
   "metadata": {
    "ExecuteTime": {
     "end_time": "2020-06-11T07:43:20.731241Z",
     "start_time": "2020-06-11T07:43:20.722552Z"
    }
   },
   "outputs": [],
   "source": [
    "# let's see what we have\n",
    "for planet in wb_1.find():\n",
    "    pp(planet)"
   ]
  },
  {
   "cell_type": "markdown",
   "metadata": {
    "ExecuteTime": {
     "end_time": "2020-06-08T09:45:41.890016Z",
     "start_time": "2020-06-08T09:45:41.886278Z"
    }
   },
   "source": [
    "## Delete"
   ]
  },
  {
   "cell_type": "code",
   "execution_count": null,
   "metadata": {
    "ExecuteTime": {
     "end_time": "2020-06-11T07:43:47.186793Z",
     "start_time": "2020-06-11T07:43:47.179069Z"
    }
   },
   "outputs": [],
   "source": [
    "# delete one\n",
    "delete_1 = wb_1.delete_one({\"name\": \"Mercury\"})\n",
    "\n",
    "# print info\n",
    "print('Deleted:', delete_1.deleted_count )"
   ]
  },
  {
   "cell_type": "code",
   "execution_count": null,
   "metadata": {
    "ExecuteTime": {
     "end_time": "2020-06-11T07:43:48.409424Z",
     "start_time": "2020-06-11T07:43:48.399552Z"
    }
   },
   "outputs": [],
   "source": [
    "# delete many\n",
    "delete_2 = wb_1.delete_many({\"type\": \"terrestrial planets\"})\n",
    "\n",
    "# print info\n",
    "print('Deleted:', delete_2.deleted_count )"
   ]
  },
  {
   "cell_type": "code",
   "execution_count": null,
   "metadata": {
    "ExecuteTime": {
     "end_time": "2020-06-11T07:43:49.913893Z",
     "start_time": "2020-06-11T07:43:49.886415Z"
    }
   },
   "outputs": [],
   "source": [
    "# drop collection\n",
    "wb_1.drop()\n",
    "\n",
    "# list collections\n",
    "db.list_collection_names()"
   ]
  },
  {
   "cell_type": "markdown",
   "metadata": {},
   "source": [
    "# Scrape a Table\n",
    "\n",
    "Here, we are going to scrape a table from a Wikipedia [page](https://en.wikipedia.org/wiki/Planet), storing results on MongoDB.\n",
    "\n",
    "[![Jupiter System Montage](https://images-assets.nasa.gov/image/PIA18469/PIA18469~orig.jpg)](https://images-assets.nasa.gov/image/PIA18469/PIA18469~orig.jpg)\n",
    "[Nasa: Building Planets Through Collisions](https://images.nasa.gov/details-PIA18469)"
   ]
  },
  {
   "cell_type": "code",
   "execution_count": null,
   "metadata": {
    "ExecuteTime": {
     "end_time": "2020-06-11T07:43:59.045695Z",
     "start_time": "2020-06-11T07:43:58.841384Z"
    }
   },
   "outputs": [],
   "source": [
    "import requests\n",
    "from bs4 import BeautifulSoup"
   ]
  },
  {
   "cell_type": "code",
   "execution_count": null,
   "metadata": {
    "ExecuteTime": {
     "end_time": "2020-06-11T07:43:59.844686Z",
     "start_time": "2020-06-11T07:43:59.832323Z"
    }
   },
   "outputs": [],
   "source": [
    "# let's connect to the localhost\n",
    "client = MongoClient()\n",
    "\n",
    "# let's create a database \n",
    "db = client.smm695\n",
    "\n",
    "# collection\n",
    "wiki_planets = db.wiki_planets\n",
    "\n",
    "# print connection\n",
    "print(\"\"\"\n",
    "Database\n",
    "==========\n",
    "{}\n",
    "\n",
    "Collection\n",
    "==========\n",
    "{}\n",
    "\"\"\".format(db, wiki_planets), flush=True\n",
    ")"
   ]
  },
  {
   "cell_type": "code",
   "execution_count": null,
   "metadata": {
    "ExecuteTime": {
     "end_time": "2020-06-11T07:44:01.511307Z",
     "start_time": "2020-06-11T07:44:01.502435Z"
    }
   },
   "outputs": [],
   "source": [
    "# set a user agent\n",
    "user_agent = 'Mozilla/5.0 (Windows; U; Windows NT 5.1; en-US) AppleWebKit/534.3 (KHTML, like Gecko) Chrome/6.0.472.53 Safari/534.3'\n",
    "header = {'user-agent': user_agent}\n",
    "\n",
    "# set a proxy\n",
    "proxy = {'https': 'http://***.***.***.***:***'}\n",
    "\n",
    "# wikipedia page\n",
    "url = \"https://en.wikipedia.org/w/index.php?title=Planet&oldid=1211766981\""
   ]
  },
  {
   "cell_type": "code",
   "execution_count": null,
   "metadata": {
    "ExecuteTime": {
     "end_time": "2020-06-11T07:44:02.911329Z",
     "start_time": "2020-06-11T07:44:02.196372Z"
    }
   },
   "outputs": [],
   "source": [
    "# get the wiki page \n",
    "wb = requests.get(url, \n",
    "                  headers=header, \n",
    "                  #proxies=proxy, \n",
    "                  timeout=15)\n",
    "\n",
    "# parsing the webpage text\n",
    "sp = BeautifulSoup(wb.text, 'html.parser')\n",
    "\n",
    "print(\"\"\"\n",
    "User-Agent:\n",
    "===========\n",
    "{}\n",
    "\n",
    "IP:\n",
    "===========\n",
    "{}\n",
    "\n",
    "\"\"\".format(wb.request.headers['user-agent'],\n",
    "           #wb.headers['X-Client-IP']\n",
    "           '****'\n",
    "          ), flush=True)"
   ]
  },
  {
   "cell_type": "code",
   "execution_count": null,
   "metadata": {
    "ExecuteTime": {
     "end_time": "2020-06-11T07:44:04.666466Z",
     "start_time": "2020-06-11T07:44:04.641209Z"
    }
   },
   "outputs": [],
   "source": [
    "# get target table\n",
    "target = sp.find('table', {'class' : \"wikitable sortable\"})\n",
    "\n",
    "print(target.prettify())"
   ]
  },
  {
   "cell_type": "code",
   "execution_count": null,
   "metadata": {},
   "outputs": [],
   "source": [
    "# Option 1\n",
    "#--+ define function\n",
    "def get_body(target):\n",
    "    # get text\n",
    "    header = [i.text for i in target.find_all('th') if 'legend' not in i.text]\n",
    "    body = [[m.text for m in i.find_all('td')] for i in target.find_all('tr')]\n",
    "    # remove \\n\n",
    "    header = [i.strip('\\n') for i in header]\n",
    "    body = [[m.strip('\\n') for m in i] for i in body]\n",
    "    # create list\n",
    "    data = [dict(zip(header, i)) for i in body]\n",
    "    # clean\n",
    "    data = [i for i in data if len(i)>0]\n",
    "    for i in data:\n",
    "        i.pop('')\n",
    "    return data\n",
    "    \n",
    "#--+ pass data to mongo\n",
    "insert = wiki_planets.insert_many(get_body(target=target))"
   ]
  },
  {
   "cell_type": "code",
   "execution_count": null,
   "metadata": {},
   "outputs": [],
   "source": [
    "# Option 2\n",
    "#--+ define function\n",
    "def body_to_mongo(target, collection):\n",
    "    # get header\n",
    "    header = [i.text.strip('\\n') for i in target.find_all('th') if 'legend' not in i.text]\n",
    "    # by line\n",
    "    for line in target.find_all('tr'):\n",
    "        # get body\n",
    "        body = [m.text.strip('\\n') for m in line.find_all('td')]\n",
    "        # prepare data\n",
    "        data = dict(zip(header, body))\n",
    "        if len(data)>0:\n",
    "            # clean\n",
    "            data.pop('')\n",
    "            # insert\n",
    "            collection.insert_one(data)\n",
    "#--+ pass data to mongo \n",
    "body_to_mongo(target=target, collection=wiki_planets)"
   ]
  },
  {
   "cell_type": "code",
   "execution_count": null,
   "metadata": {
    "ExecuteTime": {
     "end_time": "2020-06-11T07:44:20.409779Z",
     "start_time": "2020-06-11T07:44:20.389303Z"
    },
    "scrolled": true
   },
   "outputs": [],
   "source": [
    "# let's see what we imported:\n",
    "for doc in wiki_planets.find():\n",
    "    pp(doc)"
   ]
  },
  {
   "cell_type": "code",
   "execution_count": null,
   "metadata": {},
   "outputs": [],
   "source": []
  }
 ],
 "metadata": {
  "kernelspec": {
   "display_name": "Python 3.8.9 ('.venv': venv)",
   "language": "python",
   "name": "python3"
  },
  "language_info": {
   "codemirror_mode": {
    "name": "ipython",
    "version": 3
   },
   "file_extension": ".py",
   "mimetype": "text/x-python",
   "name": "python",
   "nbconvert_exporter": "python",
   "pygments_lexer": "ipython3",
   "version": "3.9.13"
  },
  "latex_envs": {
   "LaTeX_envs_menu_present": true,
   "autoclose": false,
   "autocomplete": true,
   "bibliofile": "biblio.bib",
   "cite_by": "apalike",
   "current_citInitial": 1,
   "eqLabelWithNumbers": true,
   "eqNumInitial": 1,
   "hotkeys": {
    "equation": "Ctrl-E",
    "itemize": "Ctrl-I"
   },
   "labels_anchors": false,
   "latex_user_defs": false,
   "report_style_numbering": false,
   "user_envs_cfg": false
  },
  "toc": {
   "base_numbering": 1,
   "nav_menu": {},
   "number_sections": true,
   "sideBar": true,
   "skip_h1_title": false,
   "title_cell": "Table of Contents",
   "title_sidebar": "Contents",
   "toc_cell": false,
   "toc_position": {},
   "toc_section_display": true,
   "toc_window_display": false
  },
  "varInspector": {
   "cols": {
    "lenName": 16,
    "lenType": 16,
    "lenVar": 40
   },
   "kernels_config": {
    "python": {
     "delete_cmd_postfix": "",
     "delete_cmd_prefix": "del ",
     "library": "var_list.py",
     "varRefreshCmd": "print(var_dic_list())"
    },
    "r": {
     "delete_cmd_postfix": ") ",
     "delete_cmd_prefix": "rm(",
     "library": "var_list.r",
     "varRefreshCmd": "cat(var_dic_list()) "
    }
   },
   "types_to_exclude": [
    "module",
    "function",
    "builtin_function_or_method",
    "instance",
    "_Feature"
   ],
   "window_display": false
  },
  "vscode": {
   "interpreter": {
    "hash": "116c845e412a2c4626cafe8646f2e306d5b9b3ff9451d4010b0ab6cc92d61267"
   }
  }
 },
 "nbformat": 4,
 "nbformat_minor": 4
}
