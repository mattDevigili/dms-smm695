{
 "cells": [
  {
   "cell_type": "markdown",
   "metadata": {},
   "source": [
    "# Set-up"
   ]
  },
  {
   "cell_type": "code",
   "execution_count": null,
   "metadata": {
    "ExecuteTime": {
     "end_time": "2020-06-17T21:21:15.062803Z",
     "start_time": "2020-06-17T21:21:13.653495Z"
    }
   },
   "outputs": [],
   "source": [
    "# libraries\n",
    "import re\n",
    "import numpy as np\n",
    "import pandas as pd\n",
    "from pymongo import MongoClient"
   ]
  },
  {
   "cell_type": "code",
   "execution_count": null,
   "metadata": {
    "ExecuteTime": {
     "end_time": "2020-06-17T21:21:15.078954Z",
     "start_time": "2020-06-17T21:21:15.068027Z"
    }
   },
   "outputs": [],
   "source": [
    "# let's connect to the localhost\n",
    "client = MongoClient()\n",
    "\n",
    "# let's create a database \n",
    "db = client.moma\n",
    "\n",
    "# collection\n",
    "artworks = db.artworks\n",
    "\n",
    "# print connection\n",
    "print(\"\"\"\n",
    "Database\n",
    "==========\n",
    "{}\n",
    "\n",
    "Collection\n",
    "==========\n",
    "{}\n",
    "\"\"\".format(db, artworks), flush=True\n",
    ")"
   ]
  },
  {
   "cell_type": "markdown",
   "metadata": {},
   "source": [
    "## Data"
   ]
  },
  {
   "cell_type": "markdown",
   "metadata": {
    "ExecuteTime": {
     "end_time": "2020-06-17T20:49:01.150345Z",
     "start_time": "2020-06-17T20:49:01.019387Z"
    }
   },
   "source": [
    "![MoMa](https://images.musement.com/cover/0001/31/museum-of-modern-art-moma_header-30520.jpeg?w=1200&h=630&q=95&fit=crop)"
   ]
  },
  {
   "cell_type": "code",
   "execution_count": null,
   "metadata": {
    "ExecuteTime": {
     "end_time": "2020-06-17T21:21:32.393521Z",
     "start_time": "2020-06-17T21:21:15.084583Z"
    }
   },
   "outputs": [],
   "source": [
    "df = pd.read_csv('https://media.githubusercontent.com/media/MuseumofModernArt/collection/main/Artworks.csv')\n",
    "\n",
    "df.info()"
   ]
  },
  {
   "cell_type": "markdown",
   "metadata": {},
   "source": [
    "# Loading"
   ]
  },
  {
   "cell_type": "code",
   "execution_count": null,
   "metadata": {
    "ExecuteTime": {
     "end_time": "2020-06-17T21:23:06.086672Z",
     "start_time": "2020-06-17T21:21:32.397213Z"
    }
   },
   "outputs": [],
   "source": [
    "%%time \n",
    "# slow loading of data\n",
    "d = {}\n",
    "# id column\n",
    "df['_id'] = df[\"Cataloged\"] + df[\"ObjectID\"].astype(str)\n",
    "# pass data\n",
    "for i in df.index:\n",
    "    d = {\n",
    "        \"_id\": df.loc[i, \"_id\"],\n",
    "        \"Title\": df.loc[i, \"Title\"],\n",
    "        \"Date\": df.loc[i, \"Date\"],\n",
    "        \"Artist\": {\n",
    "            \"id\": df.loc[i, \"ConstituentID\"],\n",
    "            \"Name\": df.loc[i, \"Artist\"],\n",
    "            \"Bio\": df.loc[i, \"ArtistBio\"],\n",
    "            \"Nationality\": df.loc[i, \"Nationality\"],\n",
    "            \"Birth\": df.loc[i, \"BeginDate\"],\n",
    "            \"Death\": df.loc[i, \"EndDate\"],\n",
    "            \"Gender\": df.loc[i, \"Gender\"]\n",
    "        },\n",
    "        \"Characteristics\":{\n",
    "            \"Medium\": df.loc[i,'Medium'], \n",
    "            \"Dimensions\": df.loc[i,'Dimensions'],\n",
    "            \"Circumference\": df.loc[i,'Circumference (cm)'], \n",
    "            \"Depth\": df.loc[i,'Depth (cm)'], \n",
    "            \"Diameter\": df.loc[i,'Diameter (cm)'], \n",
    "            \"Height\": df.loc[i,'Height (cm)'],\n",
    "            \"Length\": df.loc[i,'Length (cm)'], \n",
    "            \"Weight\": df.loc[i,'Weight (kg)'], \n",
    "            \"Width\": df.loc[i,'Width (cm)'], \n",
    "            \"Seat Height\": df.loc[i,'Seat Height (cm)'],\n",
    "            \"Duration\": df.loc[i,'Duration (sec.)']\n",
    "        },\n",
    "        \"Acquisition\": {\n",
    "            \"Date\": df.loc[i, \"DateAcquired\"],\n",
    "            \"CreditLine\": df.loc[i, \"CreditLine\"],\n",
    "            \"Number\": df.loc[i, \"AccessionNumber\"]\n",
    "        },\n",
    "        \"Classification\": df.loc[i, \"Classification\"],\n",
    "        \"Cataloged\": df.loc[i, \"Cataloged\"],\n",
    "        \"Department\": df.loc[i, \"Department\"],\n",
    "        \"URL\": df.loc[i, \"URL\"], \n",
    "        \"ImageURL\": df.loc[i, \"ImageURL\"]\n",
    "    }\n",
    "    artworks.insert_one(d)"
   ]
  },
  {
   "cell_type": "code",
   "execution_count": null,
   "metadata": {},
   "outputs": [],
   "source": [
    "# Artist as an array\n",
    "dt = df[df['Artist'].str.contains(',', na=False)]\n",
    "# push array\n",
    "for i in dt.index:\n",
    "    # unset Artist field\n",
    "    artworks.update_one({'_id': dt.loc[i, '_id']}, {'$unset': {'Artist':''}})\n",
    "    # get array values\n",
    "    array = []\n",
    "    for n in range(0, len(dt.loc[i, 'ConstituentID'].split(',')), 1):\n",
    "        d_ = {\n",
    "            'id': dt.loc[i, 'ConstituentID'].split(', ')[n], \n",
    "            'Name': dt.loc[i, 'Artist'].split(', ')[n],\n",
    "            'Nationality': dt.loc[i, 'Nationality'].split(') ')[n].replace('(', '').replace(')', ''),\n",
    "            'Birth': dt.loc[i, 'BeginDate'].split(') ')[n].replace('(', '').replace(')', ''), \n",
    "            'Death': dt.loc[i, 'EndDate'].split(') ')[n].replace('(', '').replace(')', ''), \n",
    "            'Gender': dt.loc[i, 'Gender'].split(') ')[n].replace('(', '').replace(')', ''), \n",
    "        }\n",
    "        artworks.update_one({'_id': dt.loc[i, '_id']}, {'$push': {'Artist':d_}})"
   ]
  },
  {
   "cell_type": "code",
   "execution_count": null,
   "metadata": {
    "ExecuteTime": {
     "end_time": "2020-06-17T21:23:06.099227Z",
     "start_time": "2020-06-17T21:23:06.088310Z"
    }
   },
   "outputs": [],
   "source": [
    "# for further reference https://docs.mongodb.com/manual/reference/command/collStats/\n",
    "stats = db.command(\"collstats\", \"artworks\")\n",
    "us = stats.get('size')/10**6\n",
    "cs = stats.get('storageSize')/10**6\n",
    "\n",
    "print(\"\"\"\n",
    "Namespace: {}\n",
    "\n",
    "Document Count: {}\n",
    "\n",
    "Uncompressed data size: {} MB\n",
    "\n",
    "Compressed data size: {} MB\n",
    "\n",
    "\"\"\".format(stats.get('ns'), stats.get('count'), us, cs), flush=True)"
   ]
  },
  {
   "cell_type": "markdown",
   "metadata": {},
   "source": [
    "## Cleaning"
   ]
  },
  {
   "cell_type": "code",
   "execution_count": null,
   "metadata": {
    "ExecuteTime": {
     "end_time": "2020-06-17T21:23:06.109414Z",
     "start_time": "2020-06-17T21:23:06.102991Z"
    }
   },
   "outputs": [],
   "source": [
    "# get key names\n",
    "key_list = []\n",
    "for i in d.keys():\n",
    "    try:\n",
    "        for b in d.get(str(i)).keys():\n",
    "            key_list.append(str(i) + '.' + str(b))\n",
    "    except:\n",
    "        key_list.append(i)"
   ]
  },
  {
   "cell_type": "code",
   "execution_count": null,
   "metadata": {
    "ExecuteTime": {
     "end_time": "2020-06-17T21:23:29.041386Z",
     "start_time": "2020-06-17T21:23:06.119627Z"
    }
   },
   "outputs": [],
   "source": [
    "# unset NaN fields\n",
    "for i in key_list:\n",
    "    update = artworks.update_many({str(i):np.nan},{\"$unset\": {str(i):\"\"}})\n",
    "    print(\"\"\"\n",
    "    Key: {}\n",
    "    Matched: {}\n",
    "    Modified: {}\n",
    "    ------------\n",
    "    \"\"\".format(i, update.matched_count, update.modified_count), flush=True)"
   ]
  },
  {
   "cell_type": "code",
   "execution_count": null,
   "metadata": {
    "ExecuteTime": {
     "end_time": "2020-06-17T21:23:29.059194Z",
     "start_time": "2020-06-17T21:23:29.048212Z"
    }
   },
   "outputs": [],
   "source": [
    "# for further reference https://docs.mongodb.com/manual/reference/command/collStats/\n",
    "stats = db.command(\"collstats\", \"artworks\")\n",
    "us_ = stats.get('size')/10**6\n",
    "\n",
    "print(\"\"\"\n",
    "Namespace: {}\n",
    "\n",
    "Document Count: {}\n",
    "\n",
    "Size: {}\n",
    "\n",
    "Var. Size: {}\n",
    "\n",
    "\"\"\".format(stats.get('ns'), stats.get('count'), us_, round(us-us_, 2)), flush=True)"
   ]
  },
  {
   "cell_type": "markdown",
   "metadata": {},
   "source": [
    "## Further Cleaning"
   ]
  },
  {
   "cell_type": "code",
   "execution_count": null,
   "metadata": {
    "ExecuteTime": {
     "end_time": "2020-06-17T21:23:32.115081Z",
     "start_time": "2020-06-17T21:23:29.064731Z"
    }
   },
   "outputs": [],
   "source": [
    "# change data type\n",
    "update = artworks.update_many({\"Date\":{\"$regex\": '^[0-9]*$'}}, [{ \"$set\": { \"Date\": { \"$toInt\": \"$Date\" } } }])\n",
    "\n",
    "print(\"\"\"\n",
    "    Key: {}\n",
    "    Matched: {}\n",
    "    Modified: {}\n",
    "    ------------\n",
    "    \"\"\".format(\"Date\", update.matched_count, update.modified_count), flush=True)"
   ]
  },
  {
   "cell_type": "code",
   "execution_count": null,
   "metadata": {
    "ExecuteTime": {
     "end_time": "2020-06-17T21:23:50.619982Z",
     "start_time": "2020-06-17T21:23:32.118780Z"
    }
   },
   "outputs": [],
   "source": [
    "# create an array field to store ranges\n",
    "for i in artworks.find({\"Date\":{\"$regex\": '^[0-9]{4}-[0-9]{4}$'}}):\n",
    "    date = i.get('Date').split('-')\n",
    "    a = int(date[0])\n",
    "    b = int(date[1])\n",
    "    id = i.get('_id')\n",
    "    update = artworks.update_one({\"_id\": str(id)},{\"$set\": {\"Date\": [a, b]}})\n",
    "    print(update.matched_count, update.modified_count)\n",
    "    \n",
    "for i in artworks.find({\"Date\":{\"$regex\": '^[0-9]{4}–[0-9]{4}$'}}):\n",
    "    date = i.get('Date').split('–')\n",
    "    a = int(date[0])\n",
    "    b = int(date[1])\n",
    "    id = i.get('_id')\n",
    "    update = artworks.update_one({\"_id\": str(id)},{\"$set\": {\"Date\": [a, b]}})\n",
    "    print(update.matched_count, update.modified_count)\n",
    "\n",
    "for i in artworks.find({\"Date\": {\"$regex\": '^[0-9]{4}-[0-9]{2}$'}}, {\"Date\": 1}):\n",
    "    date = i.get('Date').split('-')\n",
    "    a = int(date[0])\n",
    "    b = int(date[0][0] + date[0][1] + date[1])\n",
    "    id = i.get('_id')\n",
    "    update = artworks.update_one({\"_id\": str(id)},{\"$set\": {\"Date\": [a, b]}})\n",
    "    print(update.matched_count, update.modified_count)\n",
    "\n",
    "for i in artworks.find({\"Date\": {\"$regex\": '^[0-9]{4}–[0-9]{2}$'}}, {\"Date\": 1}):\n",
    "    date = i.get('Date').split('–')\n",
    "    a = int(date[0])\n",
    "    b = int(date[0][0] + date[0][1]+ date[1])\n",
    "    id = i.get('_id')\n",
    "    update = artworks.update_one({\"_id\": str(id)},{\"$set\": {\"Date\": [a, b]}})\n",
    "    print(update.matched_count, update.modified_count)\n",
    "\n",
    "# perform some further cleaning\n",
    "for i in artworks.find({\"Date\":{\"$regex\": '^c. [0-9]{4}$'}}):\n",
    "    date = i.get('Date').split(' ')\n",
    "    b = int(date[1])\n",
    "    id = i.get('_id')\n",
    "    update = artworks.update_one({\"_id\": str(id)},{\"$set\": {\"Date\": b}})\n",
    "    print(update.matched_count, update.modified_count)"
   ]
  },
  {
   "cell_type": "code",
   "execution_count": null,
   "metadata": {
    "ExecuteTime": {
     "end_time": "2020-06-17T21:23:50.775606Z",
     "start_time": "2020-06-17T21:23:50.622464Z"
    }
   },
   "outputs": [],
   "source": [
    "# remove Unknown or n.d.\n",
    "update = artworks.update_many({\"Date\": {\"$in\": [\"n.d.\", \"Unknown\", \"unknown\"]}}, {\"$unset\": {\"Date\": \"\"}})\n",
    "print(\"\"\"\n",
    "    Matched: {}\n",
    "    Modified: {}\n",
    "    \"\"\".format(update.matched_count, update.modified_count), flush=True)"
   ]
  },
  {
   "cell_type": "code",
   "execution_count": null,
   "metadata": {
    "ExecuteTime": {
     "end_time": "2020-06-17T21:23:53.881378Z",
     "start_time": "2020-06-17T21:23:50.779431Z"
    }
   },
   "outputs": [],
   "source": [
    "for i in artworks.find({\"Date\": {\"$type\": \"string\"}}, {\"Date\":1}):\n",
    "    print(i)"
   ]
  },
  {
   "cell_type": "markdown",
   "metadata": {},
   "source": [
    "# Aggregation and loading"
   ]
  },
  {
   "cell_type": "code",
   "execution_count": null,
   "metadata": {
    "ExecuteTime": {
     "end_time": "2020-06-17T21:23:53.894726Z",
     "start_time": "2020-06-17T21:23:53.888740Z"
    }
   },
   "outputs": [],
   "source": [
    "# collection\n",
    "artw = db.artw\n",
    "\n",
    "# print connection\n",
    "print(\"\"\"\n",
    "Database\n",
    "==========\n",
    "{}\n",
    "\n",
    "Collection\n",
    "==========\n",
    "{}\n",
    "\"\"\".format(db, artw), flush=True\n",
    ")"
   ]
  },
  {
   "cell_type": "code",
   "execution_count": null,
   "metadata": {
    "ExecuteTime": {
     "end_time": "2020-06-17T21:23:58.916798Z",
     "start_time": "2020-06-17T21:23:53.899352Z"
    }
   },
   "outputs": [],
   "source": [
    "# df to dict\n",
    "df.rename(columns={'Duration (sec.)': 'Duration (sec)'}, inplace=True)\n",
    "dd = df.to_dict('records')\n",
    "\n",
    "dd[0]"
   ]
  },
  {
   "cell_type": "code",
   "execution_count": null,
   "metadata": {
    "ExecuteTime": {
     "end_time": "2020-06-17T21:24:08.487640Z",
     "start_time": "2020-06-17T21:23:58.919150Z"
    }
   },
   "outputs": [],
   "source": [
    "%%time\n",
    "# insert array\n",
    "insert = artw.insert_many(dd)\n",
    "\n",
    "# define the pipeline\n",
    "pipeline = [\n",
    "    {\"$project\": \n",
    "     {\n",
    "         \"_id\": {\"$concat\": [\"$Cataloged\", {\"$toString\": \"$ObjectID\"}]},\n",
    "         \"Title\": \"$Title\",\n",
    "         \"Date\": \"$Date\",\n",
    "         \"Artist\": {\n",
    "             \"Name\": \"$Artist\", \n",
    "             'Bio': \"$ArtistBio\",\n",
    "             'Nationality': \"$Nationality\",\n",
    "             \"Birth\": \"$BeginDate\",\n",
    "             \"Death\": \"$EndDate\", \n",
    "             \"Gender\": \"$Gender\",\n",
    "         },\n",
    "        \"Characteristics\":{\n",
    "            \"Medium\": '$Medium', \n",
    "            \"Dimensions\": '$Dimensions',\n",
    "            \"Circumference\": '$Circumference (cm)', \n",
    "            \"Depth\": '$Depth (cm)', \n",
    "            \"Diameter\": '$Diameter (cm)', \n",
    "            \"Height\": '$Height (cm)',\n",
    "            \"Length\": '$Length (cm)', \n",
    "            \"Weight\": '$Weight (kg)', \n",
    "            \"Width\": '$Width (cm)', \n",
    "            \"Seat Height\": '$Seat Height (cm)',\n",
    "            \"Duration\": '$Duration (sec)'\n",
    "        },\n",
    "        \"Acquisition\": {\n",
    "            \"Date\": \"$DateAcquired\",\n",
    "            \"CreditLine\": \"$CreditLine\",\n",
    "            \"Number\": \"$AccessionNumber\"\n",
    "        },\n",
    "        \"Classification\": \"$Classification\",\n",
    "        \"Cataloged\": \"$Cataloged\",\n",
    "        \"Department\": \"$Department\",\n",
    "        \"URL\": \"$URL\", \n",
    "        \"ImageURL\": \"$ImageURL\"\n",
    "     }\n",
    "    },\n",
    "    { \"$out\" : \"artw\" }\n",
    "]\n",
    "\n",
    "# perform the aggregation\n",
    "agr = artw.aggregate(pipeline)"
   ]
  },
  {
   "cell_type": "code",
   "execution_count": null,
   "metadata": {
    "ExecuteTime": {
     "end_time": "2020-06-17T21:24:31.097100Z",
     "start_time": "2020-06-17T21:24:08.489885Z"
    }
   },
   "outputs": [],
   "source": [
    "# unset field with null values\n",
    "all(artw.update_many({str(i):np.nan},{\"$unset\": {str(i):\"\"}}) for i in key_list)"
   ]
  },
  {
   "cell_type": "code",
   "execution_count": null,
   "metadata": {},
   "outputs": [],
   "source": []
  }
 ],
 "metadata": {
  "kernelspec": {
   "display_name": "Python 3.8.9 ('.venv': venv)",
   "language": "python",
   "name": "python3"
  },
  "language_info": {
   "codemirror_mode": {
    "name": "ipython",
    "version": 3
   },
   "file_extension": ".py",
   "mimetype": "text/x-python",
   "name": "python",
   "nbconvert_exporter": "python",
   "pygments_lexer": "ipython3",
   "version": "3.9.13"
  },
  "latex_envs": {
   "LaTeX_envs_menu_present": true,
   "autoclose": false,
   "autocomplete": true,
   "bibliofile": "biblio.bib",
   "cite_by": "apalike",
   "current_citInitial": 1,
   "eqLabelWithNumbers": true,
   "eqNumInitial": 1,
   "hotkeys": {
    "equation": "Ctrl-E",
    "itemize": "Ctrl-I"
   },
   "labels_anchors": false,
   "latex_user_defs": false,
   "report_style_numbering": false,
   "user_envs_cfg": false
  },
  "toc": {
   "base_numbering": 1,
   "nav_menu": {},
   "number_sections": true,
   "sideBar": true,
   "skip_h1_title": false,
   "title_cell": "Table of Contents",
   "title_sidebar": "Contents",
   "toc_cell": false,
   "toc_position": {},
   "toc_section_display": true,
   "toc_window_display": true
  },
  "varInspector": {
   "cols": {
    "lenName": 16,
    "lenType": 16,
    "lenVar": 40
   },
   "kernels_config": {
    "python": {
     "delete_cmd_postfix": "",
     "delete_cmd_prefix": "del ",
     "library": "var_list.py",
     "varRefreshCmd": "print(var_dic_list())"
    },
    "r": {
     "delete_cmd_postfix": ") ",
     "delete_cmd_prefix": "rm(",
     "library": "var_list.r",
     "varRefreshCmd": "cat(var_dic_list()) "
    }
   },
   "types_to_exclude": [
    "module",
    "function",
    "builtin_function_or_method",
    "instance",
    "_Feature"
   ],
   "window_display": false
  },
  "vscode": {
   "interpreter": {
    "hash": "116c845e412a2c4626cafe8646f2e306d5b9b3ff9451d4010b0ab6cc92d61267"
   }
  }
 },
 "nbformat": 4,
 "nbformat_minor": 4
}
