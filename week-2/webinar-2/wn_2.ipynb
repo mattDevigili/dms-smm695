{
 "cells": [
  {
   "attachments": {},
   "cell_type": "markdown",
   "metadata": {},
   "source": [
    "# Library"
   ]
  },
  {
   "cell_type": "code",
   "execution_count": null,
   "metadata": {
    "ExecuteTime": {
     "end_time": "2020-05-28T11:30:51.857803Z",
     "start_time": "2020-05-28T11:30:51.549925Z"
    }
   },
   "outputs": [],
   "source": [
    "import os\n",
    "\n",
    "from io import StringIO\n",
    "import datetime\n",
    "import pandas as pd\n",
    "\n",
    "import psycopg2\n",
    "\n",
    "from pprint import pprint \n",
    "\n",
    "# version info\n",
    "print(\"\"\"\n",
    "Version:\n",
    "      - Pandas  --  {}\n",
    "      - Psycopg --  {}\n",
    "\"\"\".format(pd.__version__, psycopg2.__version__))"
   ]
  },
  {
   "attachments": {},
   "cell_type": "markdown",
   "metadata": {},
   "source": [
    "# Connecting to PostgreSQL "
   ]
  },
  {
   "cell_type": "code",
   "execution_count": null,
   "metadata": {
    "ExecuteTime": {
     "end_time": "2020-05-28T11:31:00.914888Z",
     "start_time": "2020-05-28T11:31:00.910010Z"
    }
   },
   "outputs": [],
   "source": [
    "# Connection params\n",
    "dbname = \"postgres\"\n",
    "user = \"postgres\"\n",
    "password = \"smm695\"\n",
    "host = \"localhost\"\n",
    "port = \"5432\""
   ]
  },
  {
   "cell_type": "code",
   "execution_count": null,
   "metadata": {
    "ExecuteTime": {
     "end_time": "2020-05-28T11:30:53.750955Z",
     "start_time": "2020-05-28T11:30:53.723474Z"
    }
   },
   "outputs": [],
   "source": [
    "# --+ Basic interaction:\n",
    "# create a new database session\n",
    "connection = psycopg2.connect(dbname=dbname,\n",
    "                            user=user,\n",
    "                            password=password,\n",
    "                            host=host,\n",
    "                            port=port)\n",
    "\n",
    "# open a cursor to perform database commands and queries\n",
    "cursor = connection.cursor()\n",
    "\n",
    "# --+ Run some SQL command:\n",
    "# get current date\n",
    "cursor.execute(\"SELECT current_date;\")\n",
    "date = cursor.fetchone() # fetchone (returns a single tuple)\n",
    "print(\"Current date: \", date[0].isoformat()) # print the info\n",
    "\n",
    "\n",
    "# --+ Close the session:\n",
    "# close the cursor\n",
    "cursor.close()\n",
    "# close the connection\n",
    "connection.close()"
   ]
  },
  {
   "cell_type": "code",
   "execution_count": null,
   "metadata": {
    "ExecuteTime": {
     "end_time": "2020-05-28T11:30:54.628353Z",
     "start_time": "2020-05-28T11:30:54.600257Z"
    }
   },
   "outputs": [],
   "source": [
    "# Let's try to connect and print some info\n",
    "try:\n",
    "    connection = psycopg2.connect(dbname=dbname,\n",
    "                            user=user,\n",
    "                            password=password,\n",
    "                            host=host,\n",
    "                            port=port)\n",
    "    cursor = connection.cursor()\n",
    "\n",
    "    # Print some info\n",
    "    cursor.execute(\"SELECT current_user;\")\n",
    "    user_ = cursor.fetchone()\n",
    "\n",
    "    cursor.execute(\"SELECT current_database();\")\n",
    "    db = cursor.fetchone()\n",
    "\n",
    "    cursor.execute(\"SELECT version();\")\n",
    "    version = cursor.fetchone()\n",
    "\n",
    "    print(\"\"\"\n",
    "    Current user:     {}\n",
    "    Current database: {}\n",
    "    Version info:     {}\n",
    "    \"\"\".format(user_[0], db[0], '-'.join(version[0].split()[:4])))\n",
    "\n",
    "except psycopg2.Error as error:\n",
    "    print(\"Warning!\", error)\n",
    "\n",
    "finally:\n",
    "        if connection is not None:\n",
    "            cursor.close()\n",
    "            connection.close()"
   ]
  },
  {
   "attachments": {},
   "cell_type": "markdown",
   "metadata": {},
   "source": [
    "# Homework 1"
   ]
  },
  {
   "attachments": {},
   "cell_type": "markdown",
   "metadata": {},
   "source": [
    "1. Create a new Database named smm695\n",
    "2. Create a new Schema named homework1\n",
    "3. Create a new Table with the following characteristics:\n",
    "\n",
    "| column_name | data_type | length/precision |\n",
    "|-------------|-----------|------------------|\n",
    "| id          | serial    |                  |\n",
    "| first_name  | varchar   | 20               |\n",
    "| last_name   | varchar   | 20               |\n",
    "| email       | varchar   | 80               |\n",
    "| salary      | numeric   |                  |\n",
    "\n",
    "4. Insert the following values:\n",
    "\n",
    "| id | first_name | last_name | email                 | salary |\n",
    "|----|------------|-----------|-----------------------|--------|\n",
    "| 1  | Dave       | Alstom    | davealstom@google.com | 50000  |\n",
    "| 2  | Hunter     | Reese     | reese1998@hotmail.nl  | 37000  |\n",
    "| 3  | Kerys      | Mcclure   | mcclure@gmail.com     | 28000  |\n",
    "\n",
    "5. Create a table that could contain the following values:\n",
    "\n",
    "| id | name    | country        | postal_code | date_of_birth |\n",
    "|----|---------|----------------|-------------|---------------|\n",
    "| 1  | Martina | Italy          | 04929       | 1995-06-18    |\n",
    "| 2  | Lenny   | United Kingdom | E2 9AD      | 1980-05-13    |\n",
    "| 3  | Taha    | China          | 100023      | 1994-09-12    |"
   ]
  },
  {
   "attachments": {},
   "cell_type": "markdown",
   "metadata": {},
   "source": [
    "## Create a new Database"
   ]
  },
  {
   "cell_type": "code",
   "execution_count": null,
   "metadata": {
    "ExecuteTime": {
     "end_time": "2020-05-28T11:31:04.347903Z",
     "start_time": "2020-05-28T11:31:04.180078Z"
    }
   },
   "outputs": [],
   "source": [
    "# CREATE DATABASE\n",
    "try:\n",
    "    connection = psycopg2.connect(dbname=dbname,\n",
    "                            user=user,\n",
    "                            password=password,\n",
    "                            host=host,\n",
    "                            port=port)\n",
    "\n",
    "    # Set autocommit\n",
    "    connection.autocommit = True\n",
    "    cursor = connection.cursor()\n",
    "\n",
    "    # Create a new database\n",
    "    cursor.execute(\"CREATE DATABASE smm695;\")\n",
    "    print(cursor.statusmessage)\n",
    "\n",
    "\n",
    "except psycopg2.Error as error:\n",
    "    print(\"Warning!\", error)\n",
    "\n",
    "finally:\n",
    "        if connection is not None:\n",
    "            cursor.close()\n",
    "            connection.close()"
   ]
  },
  {
   "attachments": {},
   "cell_type": "markdown",
   "metadata": {},
   "source": [
    "## CREATE SCHEMA and TABLES"
   ]
  },
  {
   "cell_type": "code",
   "execution_count": null,
   "metadata": {
    "ExecuteTime": {
     "end_time": "2020-05-28T11:31:07.552150Z",
     "start_time": "2020-05-28T11:31:07.547754Z"
    }
   },
   "outputs": [],
   "source": [
    "# Set the new db\n",
    "dbname = 'smm695'"
   ]
  },
  {
   "cell_type": "code",
   "execution_count": null,
   "metadata": {
    "ExecuteTime": {
     "end_time": "2020-05-28T11:31:08.226218Z",
     "start_time": "2020-05-28T11:31:08.168703Z"
    }
   },
   "outputs": [],
   "source": [
    "# Connect to smm695 and perform some tasks\n",
    "try:\n",
    "    connection = psycopg2.connect(dbname=dbname,\n",
    "                            user=user,\n",
    "                            password=password,\n",
    "                            host=host,\n",
    "                            port=port)\n",
    "    cursor = connection.cursor()\n",
    "\n",
    "    # Create a schema\n",
    "    cursor.execute(\"CREATE SCHEMA homework1;\")\n",
    "\n",
    "    print(cursor.statusmessage, '\\n')\n",
    "\n",
    "    # Create a table storing employees data\n",
    "    cursor.execute(\"\"\"CREATE TABLE homework1.employees (\n",
    "    id serial, \n",
    "    first_name  varchar(20),\n",
    "    last_name varchar(20),\n",
    "    email varchar(80),\n",
    "    salary numeric);\"\"\")\n",
    "\n",
    "    print(cursor.statusmessage, '\\n')\n",
    "\n",
    "    # Create a table storing people data\n",
    "\n",
    "    second_table_sql = \"\"\"CREATE TABLE homework1.person (\n",
    "    id serial,\n",
    "    name varchar(10),\n",
    "    country varchar(20),\n",
    "    postal_code text,\n",
    "    dob date);\"\"\"\n",
    "\n",
    "    cursor.execute(second_table_sql)\n",
    "\n",
    "    print(cursor.statusmessage)\n",
    "\n",
    "    # Commit changes\n",
    "    connection.commit()\n",
    "\n",
    "except psycopg2.Error as error:\n",
    "    print(\"Warning!\", error)\n",
    "    \n",
    "finally:\n",
    "        if connection is not None:\n",
    "            cursor.close()\n",
    "            connection.close()"
   ]
  },
  {
   "attachments": {},
   "cell_type": "markdown",
   "metadata": {},
   "source": [
    "## Insert values: loop"
   ]
  },
  {
   "cell_type": "code",
   "execution_count": null,
   "metadata": {
    "ExecuteTime": {
     "end_time": "2020-05-28T11:31:09.508424Z",
     "start_time": "2020-05-28T11:31:09.478936Z"
    }
   },
   "outputs": [],
   "source": [
    "# data to insert\n",
    "employees = \"\"\"\n",
    "first_name, last_name, email,                 salary\n",
    "Dave,       Alstom,    davealstom@google.com, 50000\n",
    "Hunter,     Reese,     reese1998@hotmail.nl,  37000\n",
    "Kerys,      Mcclure,   mcclure@gmail.com,     28000\n",
    "\"\"\"\n",
    "# loading the database\n",
    "db = pd.read_csv(StringIO(employees),\n",
    "                 skiprows=1,\n",
    "                 skipinitialspace=True,\n",
    "                 engine='python')\n",
    "\n",
    "# obtaining tuples\n",
    "values = list(zip(*map(db.get, db)))\n",
    "\n",
    "# array of tuples \n",
    "values"
   ]
  },
  {
   "cell_type": "code",
   "execution_count": null,
   "metadata": {
    "ExecuteTime": {
     "end_time": "2020-05-28T11:31:10.906993Z",
     "start_time": "2020-05-28T11:31:10.883131Z"
    }
   },
   "outputs": [],
   "source": [
    "# Connect to smm695 and perform some tasks\n",
    "try:\n",
    "    connection = psycopg2.connect(dbname=dbname,\n",
    "                            user=user,\n",
    "                            password=password,\n",
    "                            host=host,\n",
    "                            port=port)\n",
    "    cursor = connection.cursor()\n",
    "    \n",
    "    # SQL INSERT\n",
    "    insert_sql = \"\"\"INSERT INTO homework1.employees (first_name, last_name, email, salary)\n",
    "    VALUES (%s, %s, %s, %s)\"\"\"\n",
    "    \n",
    "    # Insert data\n",
    "    for value in values:\n",
    "        cursor.execute(insert_sql, value)\n",
    "        print(cursor.statusmessage)\n",
    "\n",
    "    # Commit changes\n",
    "    connection.commit()\n",
    "\n",
    "except  psycopg2.Error as error:\n",
    "    print(\"Warning!\", error)\n",
    "\n",
    "finally:\n",
    "        if connection is not None:\n",
    "            cursor.close()\n",
    "            connection.close()"
   ]
  },
  {
   "attachments": {},
   "cell_type": "markdown",
   "metadata": {},
   "source": [
    "## Inserting values: executemany"
   ]
  },
  {
   "cell_type": "code",
   "execution_count": null,
   "metadata": {
    "ExecuteTime": {
     "end_time": "2020-05-28T11:31:11.598805Z",
     "start_time": "2020-05-28T11:31:11.594185Z"
    }
   },
   "outputs": [],
   "source": [
    "values = [\n",
    "('Martina',  'Italy', '04929',datetime.date(1995,6,19)),\n",
    "('Lenny', 'United Kingdom',  'E2 9AD',  datetime.date(1980,5,13)),\n",
    "('Taha', 'China', '100023',   datetime.date(1994,9,12))]"
   ]
  },
  {
   "cell_type": "code",
   "execution_count": null,
   "metadata": {
    "ExecuteTime": {
     "end_time": "2020-05-28T11:31:12.156977Z",
     "start_time": "2020-05-28T11:31:12.139676Z"
    }
   },
   "outputs": [],
   "source": [
    "# Connect to smm695 and perform some tasks\n",
    "try:\n",
    "    connection = psycopg2.connect(dbname=dbname,\n",
    "                            user=user,\n",
    "                            password=password,\n",
    "                            host=host,\n",
    "                            port=port)\n",
    "    cursor = connection.cursor()\n",
    "    \n",
    "    # SQL INSERT\n",
    "    insert_sql = \"\"\"INSERT INTO homework1.person (name, country, postal_code, dob)\n",
    "    VALUES (%s, %s, %s, %s);\"\"\"\n",
    "    \n",
    "    # Insert data\n",
    "    cursor.executemany(insert_sql, values)\n",
    "\n",
    "    # Commit changes\n",
    "    connection.commit()\n",
    "\n",
    "\n",
    "except psycopg2.Error as error:\n",
    "    print(\"Warning!\", error)\n",
    "\n",
    "finally:\n",
    "        if connection is not None:\n",
    "            cursor.close()\n",
    "            connection.close()"
   ]
  },
  {
   "attachments": {},
   "cell_type": "markdown",
   "metadata": {},
   "source": [
    "# Homework 2"
   ]
  },
  {
   "attachments": {},
   "cell_type": "markdown",
   "metadata": {},
   "source": [
    "1. Create a schema named homework 2 \n",
    "2. Create a table with the following characteristics:\n",
    "\n",
    "| column_name   | data_type | length/precision |\n",
    "|---------------|-----------|------------------|\n",
    "| id            | serial    |                  |\n",
    "| name          | varchar   | 20               |\n",
    "| department_id | int       |                  |\n",
    "| phone_number  | varchar   | 20               |\n",
    "| salary        | numeric   |                  |\n",
    "\n",
    "3. Apply the following constraints:\n",
    "\n",
    "| column        | constraints                                  |\n",
    "|---------------|----------------------------------------------|\n",
    "| id            | PRIMARY KEY                                  |\n",
    "| name          | NOT NULL                                     |\n",
    "| department_id | CHECK(department_id = 1 OR department_id =2) |\n",
    "| phone_number  | UNIQUE                                       |\n",
    "| salary        | NOT NULL                                     |\n",
    "\n",
    "4. Insert the following observations:\n",
    "\n",
    "| id | name     | department_id | phone_number | salary |\n",
    "|----|----------|---------------|--------------|--------|\n",
    "| 1  | John     | 2             | 690.623.6568 | 20000  |\n",
    "| 2  | Leo      | 1             | 690.623.6708 | 80000  |\n",
    "| 3  | Diana    | 1             | 690.623.0007 | 110000 |\n",
    "| 4  | Paula    | 2             | 690.623.6500 | 35000  |\n",
    "| 5  | Simon    | 2             | 690.623.9834 | 45000  |\n",
    "| 6  | Jennifer | 2             |              | 18000  |\n",
    "\n",
    "5. Calculate the average salary by department\n",
    "\n",
    " | department_id | avg_salary | \n",
    " |---------------|------------|\n",
    " | 1             | 95000.00   |\n",
    " | 2             | 29500.00   |\n",
    "\n",
    "6. Calculate the maximum salary by department\n",
    "\n",
    " | department_id | avg_salary |\n",
    " |---------------|------------|\n",
    " | 1             | 110000     |\n",
    " | 2             | 45000      |\n",
    "\n",
    "7. Count the number of observations that contain the letter 'o' in the 'name' field\n",
    "\n",
    "| count_o |\n",
    "|---------|\n",
    "| 3       |\n",
    "\n",
    "8. Import location.csv and car.csv\n",
    "\n",
    "9. Count the number of female observations with _`dob'_ between 1990 and 1992\n",
    "\n",
    "| count |\n",
    "|-------|\n",
    "| 112   |\n",
    "\n",
    "10. Select the two car models with the highest price for the last ten years\n",
    "\n",
    " | car_model | max    |\n",
    " |-----------|--------|\n",
    " | Caliber   | 999718 |\n",
    " | MKT       | 995884 |"
   ]
  },
  {
   "attachments": {},
   "cell_type": "markdown",
   "metadata": {},
   "source": [
    "## Create Schema and Table"
   ]
  },
  {
   "cell_type": "code",
   "execution_count": null,
   "metadata": {
    "ExecuteTime": {
     "end_time": "2020-05-28T11:31:13.681536Z",
     "start_time": "2020-05-28T11:31:13.648596Z"
    }
   },
   "outputs": [],
   "source": [
    "# Connect to smm695 and perform some tasks\n",
    "try:\n",
    "    connection = psycopg2.connect(dbname=dbname,\n",
    "                            user=user,\n",
    "                            password=password,\n",
    "                            host=host,\n",
    "                            port=port)\n",
    "    cursor = connection.cursor()\n",
    "\n",
    "    # Create a schema\n",
    "    cursor.execute(\"CREATE SCHEMA homework2;\")\n",
    "\n",
    "    print(cursor.statusmessage, '\\n')\n",
    "\n",
    "    # Create a table storing employees data\n",
    "    cursor.execute(\"\"\"CREATE TABLE homework2.employee (\n",
    "    id serial PRIMARY KEY,\n",
    "    name varchar(20) NOT NULL,\n",
    "    department_id int,\n",
    "    phone_number varchar(20) UNIQUE,\n",
    "    salary numeric NOT NULL,\n",
    "    CHECK (department_id = 1 OR department_id = 2));\"\"\")\n",
    "\n",
    "    print(cursor.statusmessage, '\\n')\n",
    "\n",
    "    # Commit changes\n",
    "    connection.commit()\n",
    "\n",
    "\n",
    "except psycopg2.Error as error:\n",
    "    print(\"Warning!\", error)\n",
    "\n",
    "finally:\n",
    "        if connection is not None:\n",
    "            cursor.close()\n",
    "            connection.close()"
   ]
  },
  {
   "attachments": {},
   "cell_type": "markdown",
   "metadata": {},
   "source": [
    "## Insert values: dictionary"
   ]
  },
  {
   "cell_type": "code",
   "execution_count": null,
   "metadata": {
    "ExecuteTime": {
     "end_time": "2020-05-28T11:31:15.988677Z",
     "start_time": "2020-05-28T11:31:15.973452Z"
    }
   },
   "outputs": [],
   "source": [
    "employees = \"\"\"\n",
    "name,     department_id, phone_number, salary\n",
    "John,     2,            690.623.6568,  20000\n",
    "Leo,      1,            690.623.6708,  80000\n",
    "Diana,    1,            690.623.0007,  110000\n",
    "Paula,    2,            690.623.6500,  35000\n",
    "Simon,    2,            690.623.9834,  45000\n",
    "Jennifer, 2,                        ,  18000\n",
    "\"\"\"\n",
    "\n",
    "# loading the database\n",
    "db = pd.read_csv(StringIO(employees),\n",
    "                 skiprows=1,\n",
    "                 skipinitialspace=True,\n",
    "                 engine='python')\n",
    "\n",
    "# data to dictionary\n",
    "array_dict = db.to_dict('records')\n",
    "\n",
    "pprint(array_dict)"
   ]
  },
  {
   "cell_type": "code",
   "execution_count": null,
   "metadata": {
    "ExecuteTime": {
     "end_time": "2020-05-28T11:31:18.107237Z",
     "start_time": "2020-05-28T11:31:18.091722Z"
    }
   },
   "outputs": [],
   "source": [
    "# Connect to smm695 and perform some tasks\n",
    "try:\n",
    "    connection = psycopg2.connect(dbname=dbname,\n",
    "                            user=user,\n",
    "                            password=password,\n",
    "                            host=host,\n",
    "                            port=port)\n",
    "    cursor = connection.cursor()\n",
    "    \n",
    "    # SQL INSERT\n",
    "    insert_sql = \"\"\"INSERT INTO homework2.employee (name, department_id, phone_number, salary)\n",
    "    VALUES (%(name)s, %(department_id)s, %(phone_number)s, %(salary)s)\"\"\"\n",
    "    \n",
    "    # Insert data:\n",
    "    cursor.executemany(insert_sql, array_dict)\n",
    "\n",
    "    # Commit changes\n",
    "    connection.commit()\n",
    "\n",
    "\n",
    "except  psycopg2.Error as error:\n",
    "    print(\"Warning!\", error)\n",
    "\n",
    "finally:\n",
    "        if connection is not None:\n",
    "            cursor.close()\n",
    "            connection.close()"
   ]
  },
  {
   "attachments": {},
   "cell_type": "markdown",
   "metadata": {},
   "source": [
    "## Tasks 5 to 7"
   ]
  },
  {
   "cell_type": "code",
   "execution_count": null,
   "metadata": {
    "ExecuteTime": {
     "end_time": "2020-05-28T11:31:19.271338Z",
     "start_time": "2020-05-28T11:31:19.238821Z"
    }
   },
   "outputs": [],
   "source": [
    "#Connect to smm695 and perform some tasks\n",
    "try:\n",
    "    connection = psycopg2.connect(dbname=dbname,\n",
    "                            user=user,\n",
    "                            password=password,\n",
    "                            host=host,\n",
    "                            port=port)\n",
    "    cursor = connection.cursor()\n",
    "\n",
    "    # 5. Calculate the average salary by department\n",
    "    cursor.execute(\"\"\"\n",
    "    SELECT department_id, ROUND(AVG(salary),2) AS avg_salary  FROM homework2.employee \n",
    "    GROUP BY department_id ORDER BY department_id;\n",
    "    \"\"\")\n",
    "    five = cursor.fetchall()\n",
    "\n",
    "    # 6. Calculate the maximum salary by department\n",
    "    cursor.execute(\"\"\"\n",
    "    SELECT department_id, MAX(salary) AS max_salary  FROM homework2.employee \n",
    "    GROUP BY department_id ORDER BY department_id;\n",
    "    \"\"\")\n",
    "    six = cursor.fetchall()\n",
    "    \n",
    "    # 7. Count the number of observations that contain the letter 'o' in the 'name' field\n",
    "    cursor.execute(\"\"\"\n",
    "    SELECT COUNT(*) AS count_o  FROM homework2.employee \n",
    "    WHERE name LIKE '%o%';\n",
    "    \"\"\")\n",
    "    seven = cursor.fetchone()\n",
    "    \n",
    "    # Show results\n",
    "    print(\"\"\"\n",
    "    Average salary by department: \n",
    "        {}\n",
    "    \n",
    "    Maximum salary by department: \n",
    "        {}\n",
    "    \n",
    "    Observations that contain the letter o: \n",
    "        {}\n",
    "    \"\"\".format(five, six, seven[0]))\n",
    "    \n",
    "\n",
    "except psycopg2.Error as error:\n",
    "    print(\"Warning!\", error)\n",
    "\n",
    "finally:\n",
    "        if connection is not None:\n",
    "            cursor.close()\n",
    "            connection.close()"
   ]
  },
  {
   "attachments": {},
   "cell_type": "markdown",
   "metadata": {},
   "source": [
    "## Import csv"
   ]
  },
  {
   "cell_type": "code",
   "execution_count": null,
   "metadata": {
    "ExecuteTime": {
     "end_time": "2020-05-28T11:02:35.396877Z",
     "start_time": "2020-05-28T11:02:35.381401Z"
    }
   },
   "outputs": [],
   "source": [
    "PATH = os.path.dirname(os.getcwd())\n",
    "FOLDER = 'data'"
   ]
  },
  {
   "cell_type": "code",
   "execution_count": null,
   "metadata": {
    "ExecuteTime": {
     "end_time": "2020-05-28T11:31:40.926589Z",
     "start_time": "2020-05-28T11:31:40.852343Z"
    }
   },
   "outputs": [],
   "source": [
    "dbname = 'mydb'\n",
    "\n",
    "# Connect to smm695 and perform some tasks\n",
    "try:\n",
    "    connection = psycopg2.connect(dbname=dbname,\n",
    "                            user=user,\n",
    "                            password=password,\n",
    "                            host=host,\n",
    "                            port=port)\n",
    "    cursor = connection.cursor()\n",
    "\n",
    "    # Create car table\n",
    "    cursor.execute(\"\"\"\n",
    "    CREATE TABLE people.car (\n",
    "    id bigserial PRIMARY KEY,\n",
    "    car_make varchar(50),\n",
    "    car_model varchar(50),\n",
    "    car_year int,\n",
    "    price numeric);\n",
    "    \"\"\")\n",
    "    print(cursor.statusmessage, '\\n')\n",
    "\n",
    "    # Create location table\n",
    "    cursor.execute(\"\"\"\n",
    "    CREATE TABLE people.location (\n",
    "    id bigserial PRIMARY KEY,\n",
    "    country varchar(50),\n",
    "    city varchar(50),\n",
    "    street_name varchar(50),\n",
    "    street_number int,\n",
    "    postal_code varchar(50));\n",
    "    \"\"\")\n",
    "    print(cursor.statusmessage, '\\n')\n",
    "\n",
    "    # Copy car.csv\n",
    "    car = open(os.path.join(PATH, FOLDER, 'car.csv'), 'r') #file-like object\n",
    "    copy_car = \"\"\"\n",
    "           COPY people.car(car_make, car_model, car_year, price) FROM stdin WITH CSV HEADER\n",
    "           DELIMITER as ','\n",
    "           \"\"\"\n",
    "    cursor.copy_expert(copy_car, file=car)\n",
    "    \n",
    "    cursor.execute(\"\"\"SELECT * FROM people.car;\"\"\")\n",
    "    car_fetch = cursor.fetchmany(2)\n",
    "    print( 'Car:', [car_fetch[i] for i in range(0, len(car_fetch), 1)], '\\n')\n",
    "\n",
    "    # Copy location.csv\n",
    "    location = open(os.path.join(PATH, FOLDER, 'location.csv'), 'r') #file-like object\n",
    "    copy_location = \"\"\"\n",
    "           COPY people.location(country, city, street_name, street_number, postal_code) FROM stdin WITH CSV HEADER\n",
    "           DELIMITER as ','\n",
    "           \"\"\"\n",
    "    cursor.copy_expert(copy_location, file=location)\n",
    "    \n",
    "    cursor.execute(\"\"\"SELECT * FROM people.location;\"\"\")\n",
    "    location_fetch = cursor.fetchmany(2)\n",
    "    print( 'Location:', [location_fetch[i] for i in range(0, len(location_fetch), 1)])\n",
    "\n",
    "    # Commit changes\n",
    "    connection.commit()\n",
    "\n",
    "\n",
    "except psycopg2.Error as error:\n",
    "    print(\"Warning!\", error)\n",
    "\n",
    "finally:\n",
    "        if connection is not None:\n",
    "            cursor.close()\n",
    "            connection.close()"
   ]
  },
  {
   "attachments": {},
   "cell_type": "markdown",
   "metadata": {},
   "source": [
    "## Task 9 and 10"
   ]
  },
  {
   "cell_type": "code",
   "execution_count": null,
   "metadata": {
    "ExecuteTime": {
     "end_time": "2020-05-28T11:31:42.718392Z",
     "start_time": "2020-05-28T11:31:42.678689Z"
    }
   },
   "outputs": [],
   "source": [
    "# Connect to smm695 and perform some tasks\n",
    "try:\n",
    "    connection = psycopg2.connect(dbname=dbname,\n",
    "                            user=user,\n",
    "                            password=password,\n",
    "                            host=host,\n",
    "                            port=port)\n",
    "    cursor = connection.cursor()\n",
    "\n",
    "    # 9. Count the number of female observations with `dob' between 1990 and 1992\n",
    "    cursor.execute(\"\"\"\n",
    "    SELECT COUNT(*) FROM people.person  \n",
    "    WHERE gender = 'Female' AND EXTRACT(YEAR FROM dob) BETWEEN 1990 AND 1992;\n",
    "    \"\"\")\n",
    "    nine = cursor.fetchall()\n",
    "\n",
    "    # 10. Select the two car models with the highest price for the last ten years\n",
    "    cursor.execute(\"\"\"\n",
    "    SELECT car_model, MAX(price) FROM people.car \n",
    "    WHERE car_year BETWEEN 2010 AND 2020 \n",
    "    GROUP BY car_model \n",
    "    ORDER BY MAX(price) DESC LIMIT 2;\n",
    "    \"\"\")\n",
    "    ten = cursor.fetchall()\n",
    "\n",
    "    # Show results\n",
    "    print(\"\"\"\n",
    "    Count: {}\n",
    "    \n",
    "    Carn models: \n",
    "        1. {}, $ {}\n",
    "        2. {}, $ {}\n",
    "    \"\"\".format(nine[0][0], ten[0][0], ten[0][1], ten[1][0], ten[1][1]))\n",
    "\n",
    "\n",
    "except psycopg2.Error as error:\n",
    "    print(\"Warning!\", error)\n",
    "\n",
    "finally:\n",
    "        if connection is not None:\n",
    "            cursor.close()\n",
    "            connection.close()"
   ]
  },
  {
   "cell_type": "code",
   "execution_count": null,
   "metadata": {},
   "outputs": [],
   "source": []
  }
 ],
 "metadata": {
  "interpreter": {
   "hash": "116c845e412a2c4626cafe8646f2e306d5b9b3ff9451d4010b0ab6cc92d61267"
  },
  "kernelspec": {
   "display_name": "Python 3.8.9 ('.venv': venv)",
   "language": "python",
   "name": "python3"
  },
  "language_info": {
   "codemirror_mode": {
    "name": "ipython",
    "version": 3
   },
   "file_extension": ".py",
   "mimetype": "text/x-python",
   "name": "python",
   "nbconvert_exporter": "python",
   "pygments_lexer": "ipython3",
   "version": "3.9.13"
  },
  "latex_envs": {
   "LaTeX_envs_menu_present": true,
   "autoclose": false,
   "autocomplete": true,
   "bibliofile": "biblio.bib",
   "cite_by": "apalike",
   "current_citInitial": 1,
   "eqLabelWithNumbers": true,
   "eqNumInitial": 1,
   "hotkeys": {
    "equation": "Ctrl-E",
    "itemize": "Ctrl-I"
   },
   "labels_anchors": false,
   "latex_user_defs": false,
   "report_style_numbering": false,
   "user_envs_cfg": false
  },
  "toc": {
   "base_numbering": 1,
   "nav_menu": {},
   "number_sections": true,
   "sideBar": true,
   "skip_h1_title": false,
   "title_cell": "Table of Contents",
   "title_sidebar": "Contents",
   "toc_cell": false,
   "toc_position": {},
   "toc_section_display": true,
   "toc_window_display": false
  },
  "varInspector": {
   "cols": {
    "lenName": 16,
    "lenType": 16,
    "lenVar": 40
   },
   "kernels_config": {
    "python": {
     "delete_cmd_postfix": "",
     "delete_cmd_prefix": "del ",
     "library": "var_list.py",
     "varRefreshCmd": "print(var_dic_list())"
    },
    "r": {
     "delete_cmd_postfix": ") ",
     "delete_cmd_prefix": "rm(",
     "library": "var_list.r",
     "varRefreshCmd": "cat(var_dic_list()) "
    }
   },
   "types_to_exclude": [
    "module",
    "function",
    "builtin_function_or_method",
    "instance",
    "_Feature"
   ],
   "window_display": false
  }
 },
 "nbformat": 4,
 "nbformat_minor": 4
}
